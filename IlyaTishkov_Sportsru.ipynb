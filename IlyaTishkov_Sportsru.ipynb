{
 "cells": [
  {
   "cell_type": "code",
   "execution_count": 1,
   "metadata": {
    "collapsed": true
   },
   "outputs": [],
   "source": [
    "DATA_URL = \"https://archive.ics.uci.edu/ml/machine-learning-databases/00368/Facebook_metrics.zip\""
   ]
  },
  {
   "cell_type": "code",
   "execution_count": 2,
   "metadata": {
    "collapsed": false
   },
   "outputs": [],
   "source": [
    "import urllib.request\n",
    "urllib.request.urlretrieve(DATA_URL, \"metrics.zip\")\n",
    "import zipfile\n",
    "with zipfile.ZipFile(\"metrics.zip\", 'r') as zip_ref:\n",
    "    zip_ref.extractall('data')"
   ]
  },
  {
   "cell_type": "code",
   "execution_count": 3,
   "metadata": {
    "collapsed": false
   },
   "outputs": [],
   "source": [
    "import csv\n",
    "with open('data/dataset_Facebook.csv') as csvfile:\n",
    "    reader = csv.DictReader(csvfile, delimiter=\";\")\n",
    "    data = list(reader)"
   ]
  },
  {
   "cell_type": "code",
   "execution_count": 4,
   "metadata": {
    "collapsed": false
   },
   "outputs": [],
   "source": [
    "from collections import defaultdict\n",
    "types = defaultdict(list)\n",
    "for row in data:\n",
    "    ctype = row['Type']\n",
    "    for key in row.keys():\n",
    "        try:\n",
    "            row[key] = int(row[key] or 0)\n",
    "        except:\n",
    "            pass\n",
    "    types[(1, ctype)].append(row)\n",
    "types[(0, 'Total')] = data"
   ]
  },
  {
   "cell_type": "code",
   "execution_count": 5,
   "metadata": {
    "collapsed": false
   },
   "outputs": [],
   "source": [
    "from statistics import mean, median, mode, StatisticsError\n",
    "from collections import OrderedDict\n",
    "\n",
    "def safe_mode(lst):\n",
    "    try:\n",
    "        return mode(lst)\n",
    "    except StatisticsError:\n",
    "        return \"\"\n",
    "\n",
    "funcs_to_calc = OrderedDict([\n",
    "    ('Max', max),\n",
    "    ('Min', min),\n",
    "    ('Avg', mean),\n",
    "    ('Median', median),\n",
    "    ('Mode', safe_mode),\n",
    "])\n",
    "columns_to_count = [\n",
    "    'like',\n",
    "    'share',\n",
    "    'Page total likes',\n",
    "]"
   ]
  },
  {
   "cell_type": "code",
   "execution_count": 6,
   "metadata": {
    "collapsed": false
   },
   "outputs": [],
   "source": [
    "def calculate_on_column(data, colname, func, fmt=\"{:.3f}\"):\n",
    "    lst = (x[colname] for x in data)\n",
    "    ret = func(lst)\n",
    "    if isinstance(ret, str):\n",
    "        return ret\n",
    "    return fmt.format(ret)"
   ]
  },
  {
   "cell_type": "code",
   "execution_count": 7,
   "metadata": {
    "collapsed": false
   },
   "outputs": [
    {
     "data": {
      "text/html": [
       "<h1>Total</h1><table border=\"1\" cellpadding=\"3\" cellspacing=\"0\"  style=\"border:1px solid black;border-collapse:collapse;\"><tr><td  style=\"background-color:LightGray;\"><b></b></td><td  style=\"background-color:LightGray;\"><b>Max</b></td><td  style=\"background-color:LightGray;\"><b>Min</b></td><td  style=\"background-color:LightGray;\"><b>Avg</b></td><td  style=\"background-color:LightGray;\"><b>Median</b></td><td  style=\"background-color:LightGray;\"><b>Mode</b></td></tr><tr><td  style=\"background-color:Ivory;\">like</td><td  style=\"background-color:Ivory;\">5172.000</td><td  style=\"background-color:Ivory;\">0.000</td><td  style=\"background-color:Ivory;\">177.590</td><td  style=\"background-color:Ivory;\">101.000</td><td  style=\"background-color:Ivory;\">98.000</td></tr><tr><td  style=\"background-color:AliceBlue;\">share</td><td  style=\"background-color:AliceBlue;\">790.000</td><td  style=\"background-color:AliceBlue;\">0.000</td><td  style=\"background-color:AliceBlue;\">27.048</td><td  style=\"background-color:AliceBlue;\">19.000</td><td  style=\"background-color:AliceBlue;\"></td></tr><tr><td  style=\"background-color:Ivory;\">Page&nbsp;total&nbsp;likes</td><td  style=\"background-color:Ivory;\">139441.000</td><td  style=\"background-color:Ivory;\">81370.000</td><td  style=\"background-color:Ivory;\">123194.176</td><td  style=\"background-color:Ivory;\">129600.000</td><td  style=\"background-color:Ivory;\">136393.000</td></tr></table><h1>Link</h1><table border=\"1\" cellpadding=\"3\" cellspacing=\"0\"  style=\"border:1px solid black;border-collapse:collapse;\"><tr><td  style=\"background-color:LightGray;\"><b></b></td><td  style=\"background-color:LightGray;\"><b>Max</b></td><td  style=\"background-color:LightGray;\"><b>Min</b></td><td  style=\"background-color:LightGray;\"><b>Avg</b></td><td  style=\"background-color:LightGray;\"><b>Median</b></td><td  style=\"background-color:LightGray;\"><b>Mode</b></td></tr><tr><td  style=\"background-color:Ivory;\">like</td><td  style=\"background-color:Ivory;\">379.000</td><td  style=\"background-color:Ivory;\">5.000</td><td  style=\"background-color:Ivory;\">73.318</td><td  style=\"background-color:Ivory;\">37.000</td><td  style=\"background-color:Ivory;\"></td></tr><tr><td  style=\"background-color:AliceBlue;\">share</td><td  style=\"background-color:AliceBlue;\">44.000</td><td  style=\"background-color:AliceBlue;\">0.000</td><td  style=\"background-color:AliceBlue;\">12.909</td><td  style=\"background-color:AliceBlue;\">10.500</td><td  style=\"background-color:AliceBlue;\">2.000</td></tr><tr><td  style=\"background-color:Ivory;\">Page&nbsp;total&nbsp;likes</td><td  style=\"background-color:Ivory;\">138895.000</td><td  style=\"background-color:Ivory;\">85979.000</td><td  style=\"background-color:Ivory;\">116363.182</td><td  style=\"background-color:Ivory;\">115396.000</td><td  style=\"background-color:Ivory;\">138353.000</td></tr></table><h1>Photo</h1><table border=\"1\" cellpadding=\"3\" cellspacing=\"0\"  style=\"border:1px solid black;border-collapse:collapse;\"><tr><td  style=\"background-color:LightGray;\"><b></b></td><td  style=\"background-color:LightGray;\"><b>Max</b></td><td  style=\"background-color:LightGray;\"><b>Min</b></td><td  style=\"background-color:LightGray;\"><b>Avg</b></td><td  style=\"background-color:LightGray;\"><b>Median</b></td><td  style=\"background-color:LightGray;\"><b>Mode</b></td></tr><tr><td  style=\"background-color:Ivory;\">like</td><td  style=\"background-color:Ivory;\">5172.000</td><td  style=\"background-color:Ivory;\">0.000</td><td  style=\"background-color:Ivory;\">182.183</td><td  style=\"background-color:Ivory;\">99.500</td><td  style=\"background-color:Ivory;\"></td></tr><tr><td  style=\"background-color:AliceBlue;\">share</td><td  style=\"background-color:AliceBlue;\">790.000</td><td  style=\"background-color:AliceBlue;\">0.000</td><td  style=\"background-color:AliceBlue;\">26.904</td><td  style=\"background-color:AliceBlue;\">19.000</td><td  style=\"background-color:AliceBlue;\">14.000</td></tr><tr><td  style=\"background-color:Ivory;\">Page&nbsp;total&nbsp;likes</td><td  style=\"background-color:Ivory;\">139441.000</td><td  style=\"background-color:Ivory;\">81370.000</td><td  style=\"background-color:Ivory;\">122354.171</td><td  style=\"background-color:Ivory;\">128032.000</td><td  style=\"background-color:Ivory;\">124940.000</td></tr></table><h1>Status</h1><table border=\"1\" cellpadding=\"3\" cellspacing=\"0\"  style=\"border:1px solid black;border-collapse:collapse;\"><tr><td  style=\"background-color:LightGray;\"><b></b></td><td  style=\"background-color:LightGray;\"><b>Max</b></td><td  style=\"background-color:LightGray;\"><b>Min</b></td><td  style=\"background-color:LightGray;\"><b>Avg</b></td><td  style=\"background-color:LightGray;\"><b>Median</b></td><td  style=\"background-color:LightGray;\"><b>Mode</b></td></tr><tr><td  style=\"background-color:Ivory;\">like</td><td  style=\"background-color:Ivory;\">859.000</td><td  style=\"background-color:Ivory;\">13.000</td><td  style=\"background-color:Ivory;\">176.711</td><td  style=\"background-color:Ivory;\">150.000</td><td  style=\"background-color:Ivory;\"></td></tr><tr><td  style=\"background-color:AliceBlue;\">share</td><td  style=\"background-color:AliceBlue;\">123.000</td><td  style=\"background-color:AliceBlue;\">1.000</td><td  style=\"background-color:AliceBlue;\">31.422</td><td  style=\"background-color:AliceBlue;\">28.000</td><td  style=\"background-color:AliceBlue;\"></td></tr><tr><td  style=\"background-color:Ivory;\">Page&nbsp;total&nbsp;likes</td><td  style=\"background-color:Ivory;\">139441.000</td><td  style=\"background-color:Ivory;\">104070.000</td><td  style=\"background-color:Ivory;\">132647.044</td><td  style=\"background-color:Ivory;\">135713.000</td><td  style=\"background-color:Ivory;\">139441.000</td></tr></table><h1>Video</h1><table border=\"1\" cellpadding=\"3\" cellspacing=\"0\"  style=\"border:1px solid black;border-collapse:collapse;\"><tr><td  style=\"background-color:LightGray;\"><b></b></td><td  style=\"background-color:LightGray;\"><b>Max</b></td><td  style=\"background-color:LightGray;\"><b>Min</b></td><td  style=\"background-color:LightGray;\"><b>Avg</b></td><td  style=\"background-color:LightGray;\"><b>Median</b></td><td  style=\"background-color:LightGray;\"><b>Mode</b></td></tr><tr><td  style=\"background-color:Ivory;\">like</td><td  style=\"background-color:Ivory;\">449.000</td><td  style=\"background-color:Ivory;\">65.000</td><td  style=\"background-color:Ivory;\">231.429</td><td  style=\"background-color:Ivory;\">204.000</td><td  style=\"background-color:Ivory;\"></td></tr><tr><td  style=\"background-color:AliceBlue;\">share</td><td  style=\"background-color:AliceBlue;\">121.000</td><td  style=\"background-color:AliceBlue;\">13.000</td><td  style=\"background-color:AliceBlue;\">52.143</td><td  style=\"background-color:AliceBlue;\">44.000</td><td  style=\"background-color:AliceBlue;\">13.000</td></tr><tr><td  style=\"background-color:Ivory;\">Page&nbsp;total&nbsp;likes</td><td  style=\"background-color:Ivory;\">138895.000</td><td  style=\"background-color:Ivory;\">126424.000</td><td  style=\"background-color:Ivory;\">135014.857</td><td  style=\"background-color:Ivory;\">137893.000</td><td  style=\"background-color:Ivory;\">137893.000</td></tr></table>"
      ],
      "text/plain": [
       "<IPython.core.display.HTML object>"
      ]
     },
     "metadata": {},
     "output_type": "display_data"
    }
   ],
   "source": [
    "from ipy_table import make_table, apply_theme, set_global_style\n",
    "from IPython.core.display import display, HTML\n",
    "result = []\n",
    "for (_, ctype), data in sorted(types.items()):\n",
    "    tbl = [\n",
    "        [''] + list(funcs_to_calc.keys()),\n",
    "    ]\n",
    "    for col in columns_to_count:\n",
    "        tbl.append([col])\n",
    "        for funcname, func in funcs_to_calc.items():\n",
    "            tbl[-1].append(calculate_on_column(data, col, func))\n",
    "    result.append((\n",
    "        '<h1>{}</h1>'.format(ctype), make_table(tbl)\n",
    "    ))\n",
    "    apply_theme('basic')\n",
    "render = ''.join(\n",
    "    x[0] + x[1]._repr_html_() for x in result\n",
    ")\n",
    "display(HTML(render))"
   ]
  },
  {
   "cell_type": "code",
   "execution_count": 8,
   "metadata": {
    "collapsed": false
   },
   "outputs": [
    {
     "data": {
      "text/html": [
       "<table border=\"1\" cellpadding=\"3\" cellspacing=\"0\"  style=\"border:1px solid black;border-collapse:collapse;\"><tr><td>Post&nbsp;Month</td><td>11</td></tr><tr><td>Lifetime&nbsp;Post&nbsp;Total&nbsp;Reach</td><td>100768</td></tr><tr><td>Post&nbsp;Weekday</td><td>5</td></tr><tr><td>comment</td><td>17</td></tr><tr><td>Lifetime&nbsp;Post&nbsp;Impressions&nbsp;by&nbsp;people&nbsp;who&nbsp;have&nbsp;liked&nbsp;your&nbsp;Page</td><td>59658</td></tr><tr><td>Lifetime&nbsp;Post&nbsp;Total&nbsp;Impressions</td><td>220447</td></tr><tr><td>share</td><td>84</td></tr><tr><td>Paid</td><td>1</td></tr><tr><td>Total&nbsp;Interactions</td><td>550</td></tr><tr><td>Lifetime&nbsp;Engaged&nbsp;Users</td><td>2101</td></tr><tr><td>Post&nbsp;Hour</td><td>3</td></tr><tr><td>Page&nbsp;total&nbsp;likes</td><td>137893</td></tr><tr><td>Lifetime&nbsp;Post&nbsp;Consumptions</td><td>2331</td></tr><tr><td>Category</td><td>1</td></tr><tr><td>Lifetime&nbsp;People&nbsp;who&nbsp;have&nbsp;liked&nbsp;your&nbsp;Page&nbsp;and&nbsp;engaged&nbsp;with&nbsp;your&nbsp;post</td><td>885</td></tr><tr><td>Lifetime&nbsp;Post&nbsp;reach&nbsp;by&nbsp;people&nbsp;who&nbsp;like&nbsp;your&nbsp;Page</td><td>18880</td></tr><tr><td>like</td><td>449</td></tr><tr><td>Lifetime&nbsp;Post&nbsp;Consumers</td><td>1735</td></tr><tr><td>Type</td><td>Video</td></tr></table>"
      ],
      "text/plain": [
       "<ipy_table.IpyTable at 0x10450f208>"
      ]
     },
     "execution_count": 8,
     "metadata": {},
     "output_type": "execute_result"
    }
   ],
   "source": [
    "TARGET_COL = 'Total Interactions'\n",
    "from functools import reduce\n",
    "def get_most_popular(left, right):\n",
    "    return left if left[TARGET_COL] > right[TARGET_COL] else right\n",
    "most_popular = reduce(get_most_popular, data)\n",
    "make_table(list(most_popular.items()))"
   ]
  },
  {
   "cell_type": "code",
   "execution_count": null,
   "metadata": {
    "collapsed": true
   },
   "outputs": [],
   "source": []
  }
 ],
 "metadata": {
  "kernelspec": {
   "display_name": "Python 3",
   "language": "python",
   "name": "python3"
  },
  "language_info": {
   "codemirror_mode": {
    "name": "ipython",
    "version": 3
   },
   "file_extension": ".py",
   "mimetype": "text/x-python",
   "name": "python",
   "nbconvert_exporter": "python",
   "pygments_lexer": "ipython3",
   "version": "3.5.1"
  }
 },
 "nbformat": 4,
 "nbformat_minor": 0
}
